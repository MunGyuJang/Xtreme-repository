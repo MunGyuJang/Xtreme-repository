{
 "cells": [
  {
   "cell_type": "code",
   "execution_count": 10,
   "id": "91b3acc8",
   "metadata": {},
   "outputs": [
    {
     "name": "stdout",
     "output_type": "stream",
     "text": [
      "ADHS7D6AS8DA7F64G5S9FSAD\n",
      "AAAADDDDFFGHSSSS52\n"
     ]
    }
   ],
   "source": [
    "input_ = input()\n",
    "\n",
    "string = []\n",
    "number = []\n",
    "\n",
    "for i in input_:\n",
    "    try:\n",
    "        number.append(int(i))\n",
    "    except:\n",
    "        string.append(i)\n",
    "\n",
    "result = ''.join(sorted(string) + [str(sum(number))])\n",
    "print(result)"
   ]
  }
 ],
 "metadata": {
  "kernelspec": {
   "display_name": "Python 3 (ipykernel)",
   "language": "python",
   "name": "python3"
  },
  "language_info": {
   "codemirror_mode": {
    "name": "ipython",
    "version": 3
   },
   "file_extension": ".py",
   "mimetype": "text/x-python",
   "name": "python",
   "nbconvert_exporter": "python",
   "pygments_lexer": "ipython3",
   "version": "3.9.12"
  }
 },
 "nbformat": 4,
 "nbformat_minor": 5
}
