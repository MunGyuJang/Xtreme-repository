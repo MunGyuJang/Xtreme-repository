{
 "cells": [
  {
   "cell_type": "code",
   "execution_count": 8,
   "id": "37236c4e",
   "metadata": {},
   "outputs": [
    {
     "name": "stdout",
     "output_type": "stream",
     "text": [
      "5\n",
      "-15 -6 1 3 7\n",
      "3\n",
      "0.0 sec\n"
     ]
    }
   ],
   "source": [
    "import time\n",
    "\n",
    "N = int(input())\n",
    "table = list(map(int, input().split()))\n",
    "\n",
    "timestart = time.time()\n",
    "\n",
    "if len(table) == N:\n",
    "    result = [n for i, n in enumerate(table) if i == n] + [-1]\n",
    "    print(result[0])\n",
    "\n",
    "print(time.time() - timestart, 'sec')"
   ]
  }
 ],
 "metadata": {
  "kernelspec": {
   "display_name": "Python 3 (ipykernel)",
   "language": "python",
   "name": "python3"
  },
  "language_info": {
   "codemirror_mode": {
    "name": "ipython",
    "version": 3
   },
   "file_extension": ".py",
   "mimetype": "text/x-python",
   "name": "python",
   "nbconvert_exporter": "python",
   "pygments_lexer": "ipython3",
   "version": "3.9.12"
  }
 },
 "nbformat": 4,
 "nbformat_minor": 5
}
