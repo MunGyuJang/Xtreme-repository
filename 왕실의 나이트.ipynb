{
 "cells": [
  {
   "cell_type": "code",
   "execution_count": 35,
   "id": "cfcb4b83",
   "metadata": {},
   "outputs": [
    {
     "name": "stdout",
     "output_type": "stream",
     "text": [
      "a1\n"
     ]
    },
    {
     "data": {
      "text/plain": [
       "2"
      ]
     },
     "execution_count": 35,
     "metadata": {},
     "output_type": "execute_result"
    }
   ],
   "source": [
    "row = {'1':0, '2':1, '3':2, '4':3, '5':4, '6':5, '7':6, '8':7}\n",
    "col = {'a':0, 'b':1, 'c':2, 'd':3, 'e':4, 'f':5, 'g':6, 'h':7}\n",
    "\n",
    "min_move = 0\n",
    "max_move = 7\n",
    "\n",
    "n, m = 2, 1\n",
    "\n",
    "N, M = list(input())\n",
    "\n",
    "M = row[M]\n",
    "N = col[N]\n",
    "\n",
    "moved = [[N-n, M-m], [N-n, M+m], [N+n, M-m], [N+n, M+m]] + [[N-m, M-n], [N-m, M+n], [N+m, M-n], [N+m, M+n]]\n",
    "\n",
    "moveable = 8\n",
    "for i in moved:\n",
    "    if (min(i) < min_move) or (max(i) > max_move):\n",
    "        moveable -= 1\n",
    "        \n",
    "moveable"
   ]
  }
 ],
 "metadata": {
  "kernelspec": {
   "display_name": "Python 3 (ipykernel)",
   "language": "python",
   "name": "python3"
  },
  "language_info": {
   "codemirror_mode": {
    "name": "ipython",
    "version": 3
   },
   "file_extension": ".py",
   "mimetype": "text/x-python",
   "name": "python",
   "nbconvert_exporter": "python",
   "pygments_lexer": "ipython3",
   "version": "3.9.12"
  }
 },
 "nbformat": 4,
 "nbformat_minor": 5
}
