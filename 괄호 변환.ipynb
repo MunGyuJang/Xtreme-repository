{
 "cells": [
  {
   "cell_type": "code",
   "execution_count": 56,
   "id": "30368d3d",
   "metadata": {},
   "outputs": [
    {
     "name": "stdout",
     "output_type": "stream",
     "text": [
      "()))((()\n",
      "()()()()\n"
     ]
    }
   ],
   "source": [
    "X = list(input())\n",
    "\n",
    "if X.count('(') == X.count(')'):\n",
    "    for i in range(len(X)):\n",
    "        if X[i] == ')':\n",
    "            if i//2 >= X[:i].count('('):\n",
    "                for j in range(i, len(X)):\n",
    "                    if X[j] == '(':\n",
    "                        X[j] = ')'\n",
    "                        break\n",
    "                X[i] = '('\n",
    "\n",
    "print(''.join(X))"
   ]
  }
 ],
 "metadata": {
  "kernelspec": {
   "display_name": "Python 3 (ipykernel)",
   "language": "python",
   "name": "python3"
  },
  "language_info": {
   "codemirror_mode": {
    "name": "ipython",
    "version": 3
   },
   "file_extension": ".py",
   "mimetype": "text/x-python",
   "name": "python",
   "nbconvert_exporter": "python",
   "pygments_lexer": "ipython3",
   "version": "3.9.12"
  }
 },
 "nbformat": 4,
 "nbformat_minor": 5
}
