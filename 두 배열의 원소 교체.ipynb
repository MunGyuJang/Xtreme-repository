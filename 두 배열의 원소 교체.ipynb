{
 "cells": [
  {
   "cell_type": "code",
   "execution_count": 1,
   "id": "174aac96",
   "metadata": {},
   "outputs": [
    {
     "name": "stdout",
     "output_type": "stream",
     "text": [
      "5 3\n",
      "1 2 5 4 3\n",
      "5 5 6 6 5\n",
      "26\n"
     ]
    }
   ],
   "source": [
    "N, K = map(int, input().split())\n",
    "\n",
    "list_1 = list(map(int, input().split()))\n",
    "list_2 = list(map(int, input().split()))\n",
    "\n",
    "result = []\n",
    "\n",
    "def argmax(list):\n",
    "    n_max = max(list)\n",
    "    return list.index(n_max)\n",
    "\n",
    "for i in range(N):\n",
    "    if i < K:\n",
    "        result.append(list_2.pop(argmax(list_2)))\n",
    "    else:\n",
    "        result.append(list_1.pop(argmax(list_1)))\n",
    "\n",
    "print(sum(result))"
   ]
  }
 ],
 "metadata": {
  "kernelspec": {
   "display_name": "Python 3 (ipykernel)",
   "language": "python",
   "name": "python3"
  },
  "language_info": {
   "codemirror_mode": {
    "name": "ipython",
    "version": 3
   },
   "file_extension": ".py",
   "mimetype": "text/x-python",
   "name": "python",
   "nbconvert_exporter": "python",
   "pygments_lexer": "ipython3",
   "version": "3.9.12"
  }
 },
 "nbformat": 4,
 "nbformat_minor": 5
}
